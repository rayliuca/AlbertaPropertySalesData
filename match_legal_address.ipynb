{
 "cells": [
  {
   "cell_type": "code",
   "execution_count": 261,
   "metadata": {},
   "outputs": [],
   "source": [
    "import pandas as pd\n",
    "import numpy as np\n",
    "import json\n",
    "import matplotlib.pyplot as plt"
   ]
  },
  {
   "cell_type": "code",
   "execution_count": 5,
   "metadata": {},
   "outputs": [],
   "source": [
    "with open('2021_02_14_22_16_10.txt') as json_file:\n",
    "    data = json.load(json_file)"
   ]
  },
  {
   "cell_type": "code",
   "execution_count": 193,
   "metadata": {
    "scrolled": true
   },
   "outputs": [
    {
     "data": {
      "text/html": [
       "<div>\n",
       "<style scoped>\n",
       "    .dataframe tbody tr th:only-of-type {\n",
       "        vertical-align: middle;\n",
       "    }\n",
       "\n",
       "    .dataframe tbody tr th {\n",
       "        vertical-align: top;\n",
       "    }\n",
       "\n",
       "    .dataframe thead th {\n",
       "        text-align: right;\n",
       "    }\n",
       "</style>\n",
       "<table border=\"1\" class=\"dataframe\">\n",
       "  <thead>\n",
       "    <tr style=\"text-align: right;\">\n",
       "      <th></th>\n",
       "      <th>condominium</th>\n",
       "      <th>PLAN</th>\n",
       "      <th>BLOCK</th>\n",
       "      <th>LOT</th>\n",
       "      <th>Surface Rights Only</th>\n",
       "      <th>ESTATE</th>\n",
       "      <th>MUNICIPALITY</th>\n",
       "      <th>DATE(DMY)</th>\n",
       "      <th>DOCUMENTTYPE</th>\n",
       "      <th>VALUE</th>\n",
       "      <th>CONSIDERATION</th>\n",
       "      <th>LINC Number</th>\n",
       "      <th>Registration Date</th>\n",
       "      <th>Change/Cancel Date</th>\n",
       "    </tr>\n",
       "  </thead>\n",
       "  <tbody>\n",
       "    <tr>\n",
       "      <th>0033375222</th>\n",
       "      <td>False</td>\n",
       "      <td>A)0826193SUBDIVISION2.345.78</td>\n",
       "      <td>1</td>\n",
       "      <td>1</td>\n",
       "      <td>True</td>\n",
       "      <td>FEE SIMPLE</td>\n",
       "      <td>CITY OF EDMONTON</td>\n",
       "      <td>2013-03-15</td>\n",
       "      <td>TRANSFER OF LAND</td>\n",
       "      <td>2350000.0</td>\n",
       "      <td>$2,350,000</td>\n",
       "      <td>0033375222</td>\n",
       "      <td>2013-03-15</td>\n",
       "      <td>2018-03-28</td>\n",
       "    </tr>\n",
       "    <tr>\n",
       "      <th>0033884123</th>\n",
       "      <td>False</td>\n",
       "      <td>A)0924715SUBDIVISION3.518.67</td>\n",
       "      <td>1</td>\n",
       "      <td>2</td>\n",
       "      <td>True</td>\n",
       "      <td>FEE SIMPLE</td>\n",
       "      <td>CITY OF EDMONTON</td>\n",
       "      <td>2013-08-27</td>\n",
       "      <td>TRANSFER OF LAND</td>\n",
       "      <td>1962675.0</td>\n",
       "      <td>$1,962,675</td>\n",
       "      <td>0033884123</td>\n",
       "      <td>2013-08-27</td>\n",
       "      <td>2013-08-27</td>\n",
       "    </tr>\n",
       "    <tr>\n",
       "      <th>0035547786</th>\n",
       "      <td>False</td>\n",
       "      <td>1320189</td>\n",
       "      <td>1</td>\n",
       "      <td>1</td>\n",
       "      <td>True</td>\n",
       "      <td>FEE SIMPLE</td>\n",
       "      <td>CITY OF EDMONTON</td>\n",
       "      <td>2015-05-26</td>\n",
       "      <td>TRANSFER OF LAND</td>\n",
       "      <td>420000.0</td>\n",
       "      <td>$420,000</td>\n",
       "      <td>0035547786</td>\n",
       "      <td>2015-05-26</td>\n",
       "      <td>2019-09-05</td>\n",
       "    </tr>\n",
       "    <tr>\n",
       "      <th>0037406790</th>\n",
       "      <td>False</td>\n",
       "      <td>1624132</td>\n",
       "      <td>1</td>\n",
       "      <td>3</td>\n",
       "      <td>True</td>\n",
       "      <td>FEE SIMPLE</td>\n",
       "      <td>CITY OF EDMONTON</td>\n",
       "      <td>2017-05-01</td>\n",
       "      <td>TRANSFER OF LAND</td>\n",
       "      <td>1000000.0</td>\n",
       "      <td>$10</td>\n",
       "      <td>0037406790</td>\n",
       "      <td>2017-05-01</td>\n",
       "      <td>2017-12-06</td>\n",
       "    </tr>\n",
       "    <tr>\n",
       "      <th>0033819517</th>\n",
       "      <td>False</td>\n",
       "      <td>0922802</td>\n",
       "      <td>1</td>\n",
       "      <td>2</td>\n",
       "      <td>True</td>\n",
       "      <td>FEE SIMPLE</td>\n",
       "      <td>CITY OF EDMONTON</td>\n",
       "      <td>2017-11-25</td>\n",
       "      <td>TRANSFER OF LAND</td>\n",
       "      <td>836000.0</td>\n",
       "      <td>$836,000</td>\n",
       "      <td>0033819517</td>\n",
       "      <td>2017-11-25</td>\n",
       "      <td>2018-12-02</td>\n",
       "    </tr>\n",
       "    <tr>\n",
       "      <th>...</th>\n",
       "      <td>...</td>\n",
       "      <td>...</td>\n",
       "      <td>...</td>\n",
       "      <td>...</td>\n",
       "      <td>...</td>\n",
       "      <td>...</td>\n",
       "      <td>...</td>\n",
       "      <td>...</td>\n",
       "      <td>...</td>\n",
       "      <td>...</td>\n",
       "      <td>...</td>\n",
       "      <td>...</td>\n",
       "      <td>...</td>\n",
       "      <td>...</td>\n",
       "    </tr>\n",
       "    <tr>\n",
       "      <th>0015126907</th>\n",
       "      <td>False</td>\n",
       "      <td>Q</td>\n",
       "      <td>3</td>\n",
       "      <td>3</td>\n",
       "      <td>True</td>\n",
       "      <td>FEE SIMPLE</td>\n",
       "      <td>CITY OF EDMONTON</td>\n",
       "      <td>2019-11-27</td>\n",
       "      <td>TRANSFER OF LAND</td>\n",
       "      <td>620000.0</td>\n",
       "      <td>$620,000</td>\n",
       "      <td>0015126907</td>\n",
       "      <td>2019-11-27</td>\n",
       "      <td>2021-01-16</td>\n",
       "    </tr>\n",
       "    <tr>\n",
       "      <th>0017226747</th>\n",
       "      <td>False</td>\n",
       "      <td>4400R</td>\n",
       "      <td>173</td>\n",
       "      <td>2</td>\n",
       "      <td>True</td>\n",
       "      <td>FEE SIMPLE</td>\n",
       "      <td>CITY OF EDMONTON</td>\n",
       "      <td>2019-10-12</td>\n",
       "      <td>TRANSFER OF LAND</td>\n",
       "      <td>325000.0</td>\n",
       "      <td>$325,000</td>\n",
       "      <td>0017226747</td>\n",
       "      <td>2019-10-12</td>\n",
       "      <td>2020-01-20</td>\n",
       "    </tr>\n",
       "    <tr>\n",
       "      <th>0016826315</th>\n",
       "      <td>False</td>\n",
       "      <td>2874P</td>\n",
       "      <td>1</td>\n",
       "      <td>11</td>\n",
       "      <td>True</td>\n",
       "      <td>FEE SIMPLE</td>\n",
       "      <td>CITY OF EDMONTON</td>\n",
       "      <td>2019-11-12</td>\n",
       "      <td>TRANSFER OF LAND</td>\n",
       "      <td>551750.0</td>\n",
       "      <td>SEE INSTRUMENT</td>\n",
       "      <td>0016826315</td>\n",
       "      <td>2019-11-12</td>\n",
       "      <td>2020-04-02</td>\n",
       "    </tr>\n",
       "    <tr>\n",
       "      <th>0015551949</th>\n",
       "      <td>False</td>\n",
       "      <td>I17</td>\n",
       "      <td>40</td>\n",
       "      <td>22</td>\n",
       "      <td>True</td>\n",
       "      <td>FEE SIMPLE</td>\n",
       "      <td>CITY OF EDMONTON</td>\n",
       "      <td>2019-12-20</td>\n",
       "      <td>TRANSFER OF LAND</td>\n",
       "      <td>280000.0</td>\n",
       "      <td>$280,000</td>\n",
       "      <td>0015551949</td>\n",
       "      <td>2019-12-20</td>\n",
       "      <td>2020-10-02</td>\n",
       "    </tr>\n",
       "    <tr>\n",
       "      <th>0034379743</th>\n",
       "      <td>False</td>\n",
       "      <td>1024121</td>\n",
       "      <td>1</td>\n",
       "      <td>2</td>\n",
       "      <td>True</td>\n",
       "      <td>FEE SIMPLE</td>\n",
       "      <td>CITY OF EDMONTON</td>\n",
       "      <td>2014-08-08</td>\n",
       "      <td>TRANSFER OF LAND</td>\n",
       "      <td>750000.0</td>\n",
       "      <td>SEE INSTRUMENT</td>\n",
       "      <td>0034379743</td>\n",
       "      <td>2014-08-08</td>\n",
       "      <td>2020-04-22</td>\n",
       "    </tr>\n",
       "  </tbody>\n",
       "</table>\n",
       "<p>411 rows × 14 columns</p>\n",
       "</div>"
      ],
      "text/plain": [
       "           condominium                          PLAN BLOCK LOT  \\\n",
       "0033375222       False  A)0826193SUBDIVISION2.345.78     1   1   \n",
       "0033884123       False  A)0924715SUBDIVISION3.518.67     1   2   \n",
       "0035547786       False                       1320189     1   1   \n",
       "0037406790       False                       1624132     1   3   \n",
       "0033819517       False                       0922802     1   2   \n",
       "...                ...                           ...   ...  ..   \n",
       "0015126907       False                             Q     3   3   \n",
       "0017226747       False                         4400R   173   2   \n",
       "0016826315       False                         2874P     1  11   \n",
       "0015551949       False                           I17    40  22   \n",
       "0034379743       False                       1024121     1   2   \n",
       "\n",
       "           Surface Rights Only      ESTATE      MUNICIPALITY  DATE(DMY)  \\\n",
       "0033375222                True  FEE SIMPLE  CITY OF EDMONTON 2013-03-15   \n",
       "0033884123                True  FEE SIMPLE  CITY OF EDMONTON 2013-08-27   \n",
       "0035547786                True  FEE SIMPLE  CITY OF EDMONTON 2015-05-26   \n",
       "0037406790                True  FEE SIMPLE  CITY OF EDMONTON 2017-05-01   \n",
       "0033819517                True  FEE SIMPLE  CITY OF EDMONTON 2017-11-25   \n",
       "...                        ...         ...               ...        ...   \n",
       "0015126907                True  FEE SIMPLE  CITY OF EDMONTON 2019-11-27   \n",
       "0017226747                True  FEE SIMPLE  CITY OF EDMONTON 2019-10-12   \n",
       "0016826315                True  FEE SIMPLE  CITY OF EDMONTON 2019-11-12   \n",
       "0015551949                True  FEE SIMPLE  CITY OF EDMONTON 2019-12-20   \n",
       "0034379743                True  FEE SIMPLE  CITY OF EDMONTON 2014-08-08   \n",
       "\n",
       "                DOCUMENTTYPE      VALUE   CONSIDERATION LINC Number  \\\n",
       "0033375222  TRANSFER OF LAND  2350000.0      $2,350,000  0033375222   \n",
       "0033884123  TRANSFER OF LAND  1962675.0      $1,962,675  0033884123   \n",
       "0035547786  TRANSFER OF LAND   420000.0        $420,000  0035547786   \n",
       "0037406790  TRANSFER OF LAND  1000000.0             $10  0037406790   \n",
       "0033819517  TRANSFER OF LAND   836000.0        $836,000  0033819517   \n",
       "...                      ...        ...             ...         ...   \n",
       "0015126907  TRANSFER OF LAND   620000.0        $620,000  0015126907   \n",
       "0017226747  TRANSFER OF LAND   325000.0        $325,000  0017226747   \n",
       "0016826315  TRANSFER OF LAND   551750.0  SEE INSTRUMENT  0016826315   \n",
       "0015551949  TRANSFER OF LAND   280000.0        $280,000  0015551949   \n",
       "0034379743  TRANSFER OF LAND   750000.0  SEE INSTRUMENT  0034379743   \n",
       "\n",
       "           Registration Date Change/Cancel Date  \n",
       "0033375222        2013-03-15         2018-03-28  \n",
       "0033884123        2013-08-27         2013-08-27  \n",
       "0035547786        2015-05-26         2019-09-05  \n",
       "0037406790        2017-05-01         2017-12-06  \n",
       "0033819517        2017-11-25         2018-12-02  \n",
       "...                      ...                ...  \n",
       "0015126907        2019-11-27         2021-01-16  \n",
       "0017226747        2019-10-12         2020-01-20  \n",
       "0016826315        2019-11-12         2020-04-02  \n",
       "0015551949        2019-12-20         2020-10-02  \n",
       "0034379743        2014-08-08         2020-04-22  \n",
       "\n",
       "[411 rows x 14 columns]"
      ]
     },
     "execution_count": 193,
     "metadata": {},
     "output_type": "execute_result"
    }
   ],
   "source": [
    "df = pd.DataFrame(data).transpose()\n",
    "\n",
    "# Lands without plan/block/lot as their legal description are usually farm lands, acres in size\n",
    "df = df[df['PLAN'].notna()]\n",
    "df = df[df['BLOCK'].notna()]\n",
    "df = df[df['LOT'].notna()]\n",
    "\n",
    "# Lands wihtout dates will be missing the values field as well, usually due to subdivision\n",
    "df = df[df['DATE(DMY)'].notna()]\n",
    "# df[df.isna().any(axis=1)]\n",
    "# df = \n",
    "df = df.drop(columns=['LINC', 'SHORTLEGAL', 'TITLENUMBER', 'ATS REFERENCE', 'REFERENCE NUMBER', 'REGISTRATION', 'raw'])\n",
    "\n",
    "# We only want the data in Edmonton for now\n",
    "df = df[df['MUNICIPALITY']=='CITY OF EDMONTON']\n",
    "\n",
    "# Some of the plan/block/lot are not purly number, i.e. ONEHUNDREDANDTHREE(103), so we need to deal with that\n",
    "extractable_blocks = df[~df['BLOCK'].str.isnumeric()]['BLOCK'].str.extract('(\\d+)')\n",
    "for ind in extractable_blocks.index:\n",
    "    # only NaN values will be float    \n",
    "    if not isinstance(extractable_blocks.loc[ind].values[0], float):\n",
    "        df.loc[ind]['BLOCK'] = extractable_blocks.loc[ind].values[0]\n",
    "        \n",
    "extractable_lots = df[~df['LOT'].str.isnumeric()]['LOT'].str.extract('(\\d+)')\n",
    "for ind in extractable_lots.index:\n",
    "    # only NaN values will be float    \n",
    "    if not isinstance(extractable_lots.loc[ind].values[0], float):\n",
    "        df.loc[ind]['LOT'] = extractable_lots.loc[ind].values[0]\n",
    "\n",
    "# convert the date strings to the pandas datetime type\n",
    "df['DATE(DMY)'] = pd.to_datetime(df['DATE(DMY)'])\n",
    "df['Registration Date'] = pd.to_datetime(df['Registration Date'])\n",
    "df['Change/Cancel Date'] = pd.to_datetime(df['Change/Cancel Date'])\n",
    "\n",
    "# # Clean the sold value field\n",
    "df['VALUE'] = df['VALUE'].str.replace(\"$\",\"\")\n",
    "df['VALUE'] = df['VALUE'].str.replace(\",\",\"\")\n",
    "df['VALUE'] = df['VALUE'].astype(float)\n",
    "\n",
    "\n",
    "# Earliest assesment data is from 2012, so we cutoff the data before that \n",
    "df = df[df['DATE(DMY)']>\"01/01/2012\"]\n",
    "# latest assesment data is from 2019, so we cutoff the data after that \n",
    "df = df[df['DATE(DMY)']<\"12/31/2019\"]\n",
    "df\n",
    "# df[df['DOCUMENTTYPE']!=\"TRANSFER OF LAND\"]"
   ]
  },
  {
   "cell_type": "code",
   "execution_count": 192,
   "metadata": {},
   "outputs": [
    {
     "data": {
      "text/plain": [
       "0014852990   2020-11-26\n",
       "0029191723   2020-07-02\n",
       "0027964774   2015-05-26\n",
       "0027964782   2014-02-10\n",
       "0023116569   2019-10-22\n",
       "                ...    \n",
       "0019907542   2020-07-12\n",
       "0020586922   2021-01-29\n",
       "0019907526   2015-08-05\n",
       "0010574607   2013-06-17\n",
       "0027645036   2018-02-10\n",
       "Name: Change/Cancel Date, Length: 977, dtype: datetime64[ns]"
      ]
     },
     "execution_count": 192,
     "metadata": {},
     "output_type": "execute_result"
    }
   ],
   "source": [
    "df['Change/Cancel Date']"
   ]
  },
  {
   "cell_type": "code",
   "execution_count": 148,
   "metadata": {
    "scrolled": true
   },
   "outputs": [
    {
     "data": {
      "text/plain": [
       "0033375222    2350000.0\n",
       "0033884123    1962675.0\n",
       "0035547786     420000.0\n",
       "0037406790    1000000.0\n",
       "0033819517     836000.0\n",
       "                ...    \n",
       "0015126907     620000.0\n",
       "0017226747     325000.0\n",
       "0016826315     551750.0\n",
       "0015551949     280000.0\n",
       "0034379743     750000.0\n",
       "Name: VALUE, Length: 411, dtype: float64"
      ]
     },
     "execution_count": 148,
     "metadata": {},
     "output_type": "execute_result"
    }
   ],
   "source": [
    "# ~df['BLOCK'].str.isnumeric()\n",
    "# df[~df['BLOCK'].str.isnumeric()]['BLOCK'].str.extract('(\\d+)').loc['0015746688'].values[0]\n",
    "# df.loc['0015746688']\n",
    "# df.loc['0012095750']\n",
    "# extractable_blocks.loc[ind].values[0]\n",
    "# isinstance(extractable_blocks.loc['0019889674'].values[0], float)\n",
    "# extractable_blocks.loc['0019889674'].values[0].isnumeric()\n",
    "# extractable_blocks\n",
    "# pd.to_datetime(df['DATE(DMY)'])\n",
    "df['VALUE'].astype(float)"
   ]
  },
  {
   "cell_type": "code",
   "execution_count": 195,
   "metadata": {},
   "outputs": [],
   "source": [
    "prop_info = pd.read_csv('Property_Assessment_Data__2019.csv')\n",
    "prop_info = prop_info[['Account Number', 'Suite', 'House Number', 'Street Name', 'Legal Description', 'Latitude', 'Longitude']]"
   ]
  },
  {
   "cell_type": "code",
   "execution_count": 254,
   "metadata": {},
   "outputs": [],
   "source": [
    "def get_gps(plan, block, lot, prop_info=prop_info):\n",
    "    result = prop_info[prop_info['Legal Description'].str.contains(f\"{plan}.*{block}.*{lot}\", na=False)]\n",
    "#     print(result)\n",
    "    if len(result) != 0 :\n",
    "        try:\n",
    "            return [result['Latitude'].iloc[0], result['Longitude'].iloc[0]]\n",
    "        except:\n",
    "            print(result)\n",
    "\n",
    "get_gps(\"RN52\", \"3\", \"58\", prop_info=prop_info)\n",
    "gps_map = {}\n",
    "\n",
    "for i in df.index:\n",
    "    plan = df.loc[i][\"PLAN\"]\n",
    "    block = df.loc[i][\"BLOCK\"]\n",
    "    lot = df.loc[i][\"LOT\"]\n",
    "    if ')' in plan:\n",
    "        continue \n",
    "    gps_map[i] = get_gps(plan, block, lot)\n"
   ]
  },
  {
   "cell_type": "code",
   "execution_count": 247,
   "metadata": {},
   "outputs": [
    {
     "data": {
      "text/plain": [
       "'1320189'"
      ]
     },
     "execution_count": 247,
     "metadata": {},
     "output_type": "execute_result"
    }
   ],
   "source": [
    "df.loc[i][\"PLAN\"]"
   ]
  },
  {
   "cell_type": "code",
   "execution_count": 264,
   "metadata": {},
   "outputs": [
    {
     "data": {
      "text/plain": [
       "<matplotlib.collections.PathCollection at 0x1b666b08d08>"
      ]
     },
     "execution_count": 264,
     "metadata": {},
     "output_type": "execute_result"
    },
    {
     "data": {
      "image/png": "[encoded data removed]",
      "text/plain": [
       "<Figure size 432x288 with 1 Axes>"
      ]
     },
     "metadata": {},
     "output_type": "display_data"
    }
   ],
   "source": [
    "x = []\n",
    "y = []\n",
    "for key in gps_map:\n",
    "    if gps_map[key] == None:\n",
    "        continue\n",
    "    y.append(gps_map[key][0])\n",
    "    x.append(gps_map[key][1])\n",
    "plt.scatter(x,y)"
   ]
  },
  {
   "cell_type": "code",
   "execution_count": 181,
   "metadata": {
    "scrolled": false
   },
   "outputs": [
    {
     "name": "stdout",
     "output_type": "stream",
     "text": [
      "S\n",
      "LINC             SHORT LEGAL                                   TITLE NUMBER\n",
      "0036 891 547     1524641;1;7                                   192 232 244\n",
      "\n",
      "LEGAL DESCRIPTION\n",
      "PLAN 1524641  \n",
      "BLOCK 1  \n",
      "LOT 7  \n",
      "EXCEPTING THEREOUT ALL MINES AND MINERALS  \n",
      "AREA: 1.29 HECTARES (3.19 ACRES) MORE OR LESS  \n",
      "  \n",
      "ESTATE: FEE SIMPLE  \n",
      "ATS REFERENCE: 4;24;51;5;NW\n",
      "\n",
      "MUNICIPALITY: LEDUC COUNTY\n",
      "\n",
      "REFERENCE NUMBER: 152 395 055\n",
      "\n",
      "--------------------------------------------------------------------------------\n",
      "                         REGISTERED OWNER(S)\n",
      "REGISTRATION    DATE(DMY)  DOCUMENT TYPE      VALUE           CONSIDERATION\n",
      "--------------------------------------------------------------------------------\n",
      "\n",
      "192 232 244    25/09/2019  TRANSFER OF LAND   $1,475,000      $1,475,000\n"
     ]
    }
   ],
   "source": [
    "print(data['0036891547']['raw'])\n"
   ]
  },
  {
   "cell_type": "code",
   "execution_count": 185,
   "metadata": {
    "scrolled": true
   },
   "outputs": [
    {
     "data": {
      "text/plain": [
       "[]"
      ]
     },
     "execution_count": 185,
     "metadata": {},
     "output_type": "execute_result"
    }
   ],
   "source": [
    "\n",
    "[x for x in data if ('PLAN' in data[x] and 'BLOCK' in data[x] and \"7\" in data[x]['PLAN'])]"
   ]
  },
  {
   "cell_type": "code",
   "execution_count": 187,
   "metadata": {},
   "outputs": [
    {
     "data": {
      "text/plain": [
       "'4572RS'"
      ]
     },
     "execution_count": 187,
     "metadata": {},
     "output_type": "execute_result"
    }
   ],
   "source": [
    "\n",
    "data[list(data.keys())[0]]['PLAN']\n",
    "# [x for x in data]"
   ]
  },
  {
   "cell_type": "code",
   "execution_count": 266,
   "metadata": {},
   "outputs": [
    {
     "data": {
      "text/plain": [
       "(402419, 7)"
      ]
     },
     "execution_count": 266,
     "metadata": {},
     "output_type": "execute_result"
    }
   ],
   "source": [
    "prop_info.shape"
   ]
  }
 ],
 "metadata": {
  "kernelspec": {
   "display_name": "Python 3",
   "language": "python",
   "name": "python3"
  },
  "language_info": {
   "codemirror_mode": {
    "name": "ipython",
    "version": 3
   },
   "file_extension": ".py",
   "mimetype": "text/x-python",
   "name": "python",
   "nbconvert_exporter": "python",
   "pygments_lexer": "ipython3",
   "version": "3.7.6"
  }
 },
 "nbformat": 4,
 "nbformat_minor": 4
}
